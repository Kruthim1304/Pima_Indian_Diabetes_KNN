{
 "cells": [
  {
   "cell_type": "code",
   "execution_count": 1,
   "id": "outstanding-square",
   "metadata": {
    "execution": {
     "iopub.execute_input": "2021-04-30T15:54:53.428415Z",
     "iopub.status.busy": "2021-04-30T15:54:53.427173Z",
     "iopub.status.idle": "2021-04-30T15:54:53.432279Z",
     "shell.execute_reply": "2021-04-30T15:54:53.432842Z"
    },
    "papermill": {
     "duration": 0.024663,
     "end_time": "2021-04-30T15:54:53.433448",
     "exception": false,
     "start_time": "2021-04-30T15:54:53.408785",
     "status": "completed"
    },
    "tags": []
   },
   "outputs": [],
   "source": [
    "#Load the necessary python libraries\n",
    "import numpy as np\n",
    "import pandas as pd\n",
    "import matplotlib.pyplot as plt\n",
    "plt.style.use('ggplot')"
   ]
  },
  {
   "cell_type": "code",
   "execution_count": 2,
   "id": "outdoor-manhattan",
   "metadata": {
    "execution": {
     "iopub.execute_input": "2021-04-30T15:54:53.462505Z",
     "iopub.status.busy": "2021-04-30T15:54:53.461810Z",
     "iopub.status.idle": "2021-04-30T15:54:54.985235Z",
     "shell.execute_reply": "2021-04-30T15:54:54.984278Z"
    },
    "papermill": {
     "duration": 1.538929,
     "end_time": "2021-04-30T15:54:54.985419",
     "exception": false,
     "start_time": "2021-04-30T15:54:53.446490",
     "status": "completed"
    },
    "tags": []
   },
   "outputs": [],
   "source": [
    "#Load the dataset\n",
    "df = pd.read_csv('/kaggle/input/pima-indians-diabetes-database/diabetes.csv')\n",
    "#importing train_test_split\n",
    "from sklearn.model_selection import train_test_split\n",
    "# For Implementing KNN\n",
    "from sklearn.neighbors import KNeighborsClassifier"
   ]
  },
  {
   "cell_type": "code",
   "execution_count": 3,
   "id": "dress-schedule",
   "metadata": {
    "execution": {
     "iopub.execute_input": "2021-04-30T15:54:55.027387Z",
     "iopub.status.busy": "2021-04-30T15:54:55.026307Z",
     "iopub.status.idle": "2021-04-30T15:54:55.049739Z",
     "shell.execute_reply": "2021-04-30T15:54:55.050260Z"
    },
    "papermill": {
     "duration": 0.052444,
     "end_time": "2021-04-30T15:54:55.050456",
     "exception": false,
     "start_time": "2021-04-30T15:54:54.998012",
     "status": "completed"
    },
    "tags": []
   },
   "outputs": [
    {
     "data": {
      "text/html": [
       "<div>\n",
       "<style scoped>\n",
       "    .dataframe tbody tr th:only-of-type {\n",
       "        vertical-align: middle;\n",
       "    }\n",
       "\n",
       "    .dataframe tbody tr th {\n",
       "        vertical-align: top;\n",
       "    }\n",
       "\n",
       "    .dataframe thead th {\n",
       "        text-align: right;\n",
       "    }\n",
       "</style>\n",
       "<table border=\"1\" class=\"dataframe\">\n",
       "  <thead>\n",
       "    <tr style=\"text-align: right;\">\n",
       "      <th></th>\n",
       "      <th>Pregnancies</th>\n",
       "      <th>Glucose</th>\n",
       "      <th>BloodPressure</th>\n",
       "      <th>SkinThickness</th>\n",
       "      <th>Insulin</th>\n",
       "      <th>BMI</th>\n",
       "      <th>DiabetesPedigreeFunction</th>\n",
       "      <th>Age</th>\n",
       "      <th>Outcome</th>\n",
       "    </tr>\n",
       "  </thead>\n",
       "  <tbody>\n",
       "    <tr>\n",
       "      <th>0</th>\n",
       "      <td>6</td>\n",
       "      <td>148</td>\n",
       "      <td>72</td>\n",
       "      <td>35</td>\n",
       "      <td>0</td>\n",
       "      <td>33.6</td>\n",
       "      <td>0.627</td>\n",
       "      <td>50</td>\n",
       "      <td>1</td>\n",
       "    </tr>\n",
       "    <tr>\n",
       "      <th>1</th>\n",
       "      <td>1</td>\n",
       "      <td>85</td>\n",
       "      <td>66</td>\n",
       "      <td>29</td>\n",
       "      <td>0</td>\n",
       "      <td>26.6</td>\n",
       "      <td>0.351</td>\n",
       "      <td>31</td>\n",
       "      <td>0</td>\n",
       "    </tr>\n",
       "    <tr>\n",
       "      <th>2</th>\n",
       "      <td>8</td>\n",
       "      <td>183</td>\n",
       "      <td>64</td>\n",
       "      <td>0</td>\n",
       "      <td>0</td>\n",
       "      <td>23.3</td>\n",
       "      <td>0.672</td>\n",
       "      <td>32</td>\n",
       "      <td>1</td>\n",
       "    </tr>\n",
       "    <tr>\n",
       "      <th>3</th>\n",
       "      <td>1</td>\n",
       "      <td>89</td>\n",
       "      <td>66</td>\n",
       "      <td>23</td>\n",
       "      <td>94</td>\n",
       "      <td>28.1</td>\n",
       "      <td>0.167</td>\n",
       "      <td>21</td>\n",
       "      <td>0</td>\n",
       "    </tr>\n",
       "    <tr>\n",
       "      <th>4</th>\n",
       "      <td>0</td>\n",
       "      <td>137</td>\n",
       "      <td>40</td>\n",
       "      <td>35</td>\n",
       "      <td>168</td>\n",
       "      <td>43.1</td>\n",
       "      <td>2.288</td>\n",
       "      <td>33</td>\n",
       "      <td>1</td>\n",
       "    </tr>\n",
       "  </tbody>\n",
       "</table>\n",
       "</div>"
      ],
      "text/plain": [
       "   Pregnancies  Glucose  BloodPressure  SkinThickness  Insulin   BMI  \\\n",
       "0            6      148             72             35        0  33.6   \n",
       "1            1       85             66             29        0  26.6   \n",
       "2            8      183             64              0        0  23.3   \n",
       "3            1       89             66             23       94  28.1   \n",
       "4            0      137             40             35      168  43.1   \n",
       "\n",
       "   DiabetesPedigreeFunction  Age  Outcome  \n",
       "0                     0.627   50        1  \n",
       "1                     0.351   31        0  \n",
       "2                     0.672   32        1  \n",
       "3                     0.167   21        0  \n",
       "4                     2.288   33        1  "
      ]
     },
     "execution_count": 3,
     "metadata": {},
     "output_type": "execute_result"
    }
   ],
   "source": [
    "#Print the first 5 rows of the dataframe.\n",
    "df.head()"
   ]
  },
  {
   "cell_type": "code",
   "execution_count": 4,
   "id": "polish-stupid",
   "metadata": {
    "execution": {
     "iopub.execute_input": "2021-04-30T15:54:55.083332Z",
     "iopub.status.busy": "2021-04-30T15:54:55.082528Z",
     "iopub.status.idle": "2021-04-30T15:54:55.087817Z",
     "shell.execute_reply": "2021-04-30T15:54:55.087167Z"
    },
    "papermill": {
     "duration": 0.023523,
     "end_time": "2021-04-30T15:54:55.087959",
     "exception": false,
     "start_time": "2021-04-30T15:54:55.064436",
     "status": "completed"
    },
    "tags": []
   },
   "outputs": [
    {
     "data": {
      "text/plain": [
       "(768, 9)"
      ]
     },
     "execution_count": 4,
     "metadata": {},
     "output_type": "execute_result"
    }
   ],
   "source": [
    "#Shape of the dataframe.\n",
    "df.shape"
   ]
  },
  {
   "cell_type": "code",
   "execution_count": 5,
   "id": "finnish-keyboard",
   "metadata": {
    "execution": {
     "iopub.execute_input": "2021-04-30T15:54:55.136035Z",
     "iopub.status.busy": "2021-04-30T15:54:55.135332Z",
     "iopub.status.idle": "2021-04-30T15:54:55.139436Z",
     "shell.execute_reply": "2021-04-30T15:54:55.139926Z"
    },
    "papermill": {
     "duration": 0.038597,
     "end_time": "2021-04-30T15:54:55.140109",
     "exception": false,
     "start_time": "2021-04-30T15:54:55.101512",
     "status": "completed"
    },
    "tags": []
   },
   "outputs": [
    {
     "name": "stdout",
     "output_type": "stream",
     "text": [
      "<class 'pandas.core.frame.DataFrame'>\n",
      "RangeIndex: 768 entries, 0 to 767\n",
      "Data columns (total 9 columns):\n",
      " #   Column                    Non-Null Count  Dtype  \n",
      "---  ------                    --------------  -----  \n",
      " 0   Pregnancies               768 non-null    int64  \n",
      " 1   Glucose                   768 non-null    int64  \n",
      " 2   BloodPressure             768 non-null    int64  \n",
      " 3   SkinThickness             768 non-null    int64  \n",
      " 4   Insulin                   768 non-null    int64  \n",
      " 5   BMI                       768 non-null    float64\n",
      " 6   DiabetesPedigreeFunction  768 non-null    float64\n",
      " 7   Age                       768 non-null    int64  \n",
      " 8   Outcome                   768 non-null    int64  \n",
      "dtypes: float64(2), int64(7)\n",
      "memory usage: 54.1 KB\n"
     ]
    }
   ],
   "source": [
    "df.info()"
   ]
  },
  {
   "cell_type": "code",
   "execution_count": 6,
   "id": "front-vehicle",
   "metadata": {
    "execution": {
     "iopub.execute_input": "2021-04-30T15:54:55.194670Z",
     "iopub.status.busy": "2021-04-30T15:54:55.193819Z",
     "iopub.status.idle": "2021-04-30T15:54:55.199131Z",
     "shell.execute_reply": "2021-04-30T15:54:55.198491Z"
    },
    "papermill": {
     "duration": 0.043743,
     "end_time": "2021-04-30T15:54:55.199270",
     "exception": false,
     "start_time": "2021-04-30T15:54:55.155527",
     "status": "completed"
    },
    "tags": []
   },
   "outputs": [
    {
     "data": {
      "text/html": [
       "<div>\n",
       "<style scoped>\n",
       "    .dataframe tbody tr th:only-of-type {\n",
       "        vertical-align: middle;\n",
       "    }\n",
       "\n",
       "    .dataframe tbody tr th {\n",
       "        vertical-align: top;\n",
       "    }\n",
       "\n",
       "    .dataframe thead th {\n",
       "        text-align: right;\n",
       "    }\n",
       "</style>\n",
       "<table border=\"1\" class=\"dataframe\">\n",
       "  <thead>\n",
       "    <tr style=\"text-align: right;\">\n",
       "      <th></th>\n",
       "      <th>Pregnancies</th>\n",
       "      <th>Glucose</th>\n",
       "      <th>BloodPressure</th>\n",
       "      <th>SkinThickness</th>\n",
       "      <th>Insulin</th>\n",
       "      <th>BMI</th>\n",
       "      <th>DiabetesPedigreeFunction</th>\n",
       "      <th>Age</th>\n",
       "      <th>Outcome</th>\n",
       "    </tr>\n",
       "  </thead>\n",
       "  <tbody>\n",
       "    <tr>\n",
       "      <th>0</th>\n",
       "      <td>False</td>\n",
       "      <td>False</td>\n",
       "      <td>False</td>\n",
       "      <td>False</td>\n",
       "      <td>False</td>\n",
       "      <td>False</td>\n",
       "      <td>False</td>\n",
       "      <td>False</td>\n",
       "      <td>False</td>\n",
       "    </tr>\n",
       "    <tr>\n",
       "      <th>1</th>\n",
       "      <td>False</td>\n",
       "      <td>False</td>\n",
       "      <td>False</td>\n",
       "      <td>False</td>\n",
       "      <td>False</td>\n",
       "      <td>False</td>\n",
       "      <td>False</td>\n",
       "      <td>False</td>\n",
       "      <td>False</td>\n",
       "    </tr>\n",
       "    <tr>\n",
       "      <th>2</th>\n",
       "      <td>False</td>\n",
       "      <td>False</td>\n",
       "      <td>False</td>\n",
       "      <td>False</td>\n",
       "      <td>False</td>\n",
       "      <td>False</td>\n",
       "      <td>False</td>\n",
       "      <td>False</td>\n",
       "      <td>False</td>\n",
       "    </tr>\n",
       "    <tr>\n",
       "      <th>3</th>\n",
       "      <td>False</td>\n",
       "      <td>False</td>\n",
       "      <td>False</td>\n",
       "      <td>False</td>\n",
       "      <td>False</td>\n",
       "      <td>False</td>\n",
       "      <td>False</td>\n",
       "      <td>False</td>\n",
       "      <td>False</td>\n",
       "    </tr>\n",
       "    <tr>\n",
       "      <th>4</th>\n",
       "      <td>False</td>\n",
       "      <td>False</td>\n",
       "      <td>False</td>\n",
       "      <td>False</td>\n",
       "      <td>False</td>\n",
       "      <td>False</td>\n",
       "      <td>False</td>\n",
       "      <td>False</td>\n",
       "      <td>False</td>\n",
       "    </tr>\n",
       "    <tr>\n",
       "      <th>...</th>\n",
       "      <td>...</td>\n",
       "      <td>...</td>\n",
       "      <td>...</td>\n",
       "      <td>...</td>\n",
       "      <td>...</td>\n",
       "      <td>...</td>\n",
       "      <td>...</td>\n",
       "      <td>...</td>\n",
       "      <td>...</td>\n",
       "    </tr>\n",
       "    <tr>\n",
       "      <th>763</th>\n",
       "      <td>False</td>\n",
       "      <td>False</td>\n",
       "      <td>False</td>\n",
       "      <td>False</td>\n",
       "      <td>False</td>\n",
       "      <td>False</td>\n",
       "      <td>False</td>\n",
       "      <td>False</td>\n",
       "      <td>False</td>\n",
       "    </tr>\n",
       "    <tr>\n",
       "      <th>764</th>\n",
       "      <td>False</td>\n",
       "      <td>False</td>\n",
       "      <td>False</td>\n",
       "      <td>False</td>\n",
       "      <td>False</td>\n",
       "      <td>False</td>\n",
       "      <td>False</td>\n",
       "      <td>False</td>\n",
       "      <td>False</td>\n",
       "    </tr>\n",
       "    <tr>\n",
       "      <th>765</th>\n",
       "      <td>False</td>\n",
       "      <td>False</td>\n",
       "      <td>False</td>\n",
       "      <td>False</td>\n",
       "      <td>False</td>\n",
       "      <td>False</td>\n",
       "      <td>False</td>\n",
       "      <td>False</td>\n",
       "      <td>False</td>\n",
       "    </tr>\n",
       "    <tr>\n",
       "      <th>766</th>\n",
       "      <td>False</td>\n",
       "      <td>False</td>\n",
       "      <td>False</td>\n",
       "      <td>False</td>\n",
       "      <td>False</td>\n",
       "      <td>False</td>\n",
       "      <td>False</td>\n",
       "      <td>False</td>\n",
       "      <td>False</td>\n",
       "    </tr>\n",
       "    <tr>\n",
       "      <th>767</th>\n",
       "      <td>False</td>\n",
       "      <td>False</td>\n",
       "      <td>False</td>\n",
       "      <td>False</td>\n",
       "      <td>False</td>\n",
       "      <td>False</td>\n",
       "      <td>False</td>\n",
       "      <td>False</td>\n",
       "      <td>False</td>\n",
       "    </tr>\n",
       "  </tbody>\n",
       "</table>\n",
       "<p>768 rows × 9 columns</p>\n",
       "</div>"
      ],
      "text/plain": [
       "     Pregnancies  Glucose  BloodPressure  SkinThickness  Insulin    BMI  \\\n",
       "0          False    False          False          False    False  False   \n",
       "1          False    False          False          False    False  False   \n",
       "2          False    False          False          False    False  False   \n",
       "3          False    False          False          False    False  False   \n",
       "4          False    False          False          False    False  False   \n",
       "..           ...      ...            ...            ...      ...    ...   \n",
       "763        False    False          False          False    False  False   \n",
       "764        False    False          False          False    False  False   \n",
       "765        False    False          False          False    False  False   \n",
       "766        False    False          False          False    False  False   \n",
       "767        False    False          False          False    False  False   \n",
       "\n",
       "     DiabetesPedigreeFunction    Age  Outcome  \n",
       "0                       False  False    False  \n",
       "1                       False  False    False  \n",
       "2                       False  False    False  \n",
       "3                       False  False    False  \n",
       "4                       False  False    False  \n",
       "..                        ...    ...      ...  \n",
       "763                     False  False    False  \n",
       "764                     False  False    False  \n",
       "765                     False  False    False  \n",
       "766                     False  False    False  \n",
       "767                     False  False    False  \n",
       "\n",
       "[768 rows x 9 columns]"
      ]
     },
     "execution_count": 6,
     "metadata": {},
     "output_type": "execute_result"
    }
   ],
   "source": [
    "#Checking Missing Values\n",
    "df.isnull()"
   ]
  },
  {
   "cell_type": "code",
   "execution_count": 7,
   "id": "formed-seeking",
   "metadata": {
    "execution": {
     "iopub.execute_input": "2021-04-30T15:54:55.240466Z",
     "iopub.status.busy": "2021-04-30T15:54:55.239697Z",
     "iopub.status.idle": "2021-04-30T15:54:55.243612Z",
     "shell.execute_reply": "2021-04-30T15:54:55.242972Z"
    },
    "papermill": {
     "duration": 0.028694,
     "end_time": "2021-04-30T15:54:55.243749",
     "exception": false,
     "start_time": "2021-04-30T15:54:55.215055",
     "status": "completed"
    },
    "tags": []
   },
   "outputs": [
    {
     "data": {
      "text/plain": [
       "Pregnancies                 0\n",
       "Glucose                     0\n",
       "BloodPressure               0\n",
       "SkinThickness               0\n",
       "Insulin                     0\n",
       "BMI                         0\n",
       "DiabetesPedigreeFunction    0\n",
       "Age                         0\n",
       "Outcome                     0\n",
       "dtype: int64"
      ]
     },
     "execution_count": 7,
     "metadata": {},
     "output_type": "execute_result"
    }
   ],
   "source": [
    "df.isnull().sum()"
   ]
  },
  {
   "cell_type": "code",
   "execution_count": 8,
   "id": "dependent-silver",
   "metadata": {
    "execution": {
     "iopub.execute_input": "2021-04-30T15:54:55.286948Z",
     "iopub.status.busy": "2021-04-30T15:54:55.286122Z",
     "iopub.status.idle": "2021-04-30T15:54:55.290176Z",
     "shell.execute_reply": "2021-04-30T15:54:55.289513Z"
    },
    "papermill": {
     "duration": 0.028439,
     "end_time": "2021-04-30T15:54:55.290321",
     "exception": false,
     "start_time": "2021-04-30T15:54:55.261882",
     "status": "completed"
    },
    "tags": []
   },
   "outputs": [],
   "source": [
    "#Ceate numpy arrays for features and target\n",
    "X = df.drop('Outcome',axis=1).values\n",
    "y = df['Outcome'].values"
   ]
  },
  {
   "cell_type": "markdown",
   "id": "loaded-mentor",
   "metadata": {
    "papermill": {
     "duration": 0.014978,
     "end_time": "2021-04-30T15:54:55.320626",
     "exception": false,
     "start_time": "2021-04-30T15:54:55.305648",
     "status": "completed"
    },
    "tags": []
   },
   "source": [
    "Let's split the data randomly into training and test set."
   ]
  },
  {
   "cell_type": "code",
   "execution_count": 9,
   "id": "specific-issue",
   "metadata": {
    "execution": {
     "iopub.execute_input": "2021-04-30T15:54:55.358221Z",
     "iopub.status.busy": "2021-04-30T15:54:55.357158Z",
     "iopub.status.idle": "2021-04-30T15:54:55.365097Z",
     "shell.execute_reply": "2021-04-30T15:54:55.364443Z"
    },
    "papermill": {
     "duration": 0.02872,
     "end_time": "2021-04-30T15:54:55.365251",
     "exception": false,
     "start_time": "2021-04-30T15:54:55.336531",
     "status": "completed"
    },
    "tags": []
   },
   "outputs": [],
   "source": [
    "X_train,X_test,y_train,y_test = train_test_split(X,y,test_size=0.4,random_state=42, stratify=y)"
   ]
  },
  {
   "cell_type": "markdown",
   "id": "occupied-lafayette",
   "metadata": {
    "papermill": {
     "duration": 0.016291,
     "end_time": "2021-04-30T15:54:55.398598",
     "exception": false,
     "start_time": "2021-04-30T15:54:55.382307",
     "status": "completed"
    },
    "tags": []
   },
   "source": [
    "Implementing KNN Classifier Now"
   ]
  },
  {
   "cell_type": "code",
   "execution_count": 10,
   "id": "pursuant-healthcare",
   "metadata": {
    "execution": {
     "iopub.execute_input": "2021-04-30T15:54:55.435809Z",
     "iopub.status.busy": "2021-04-30T15:54:55.435126Z",
     "iopub.status.idle": "2021-04-30T15:54:55.439536Z",
     "shell.execute_reply": "2021-04-30T15:54:55.438906Z"
    },
    "papermill": {
     "duration": 0.025015,
     "end_time": "2021-04-30T15:54:55.439700",
     "exception": false,
     "start_time": "2021-04-30T15:54:55.414685",
     "status": "completed"
    },
    "tags": []
   },
   "outputs": [],
   "source": [
    "#Setup arrays to store training and test accuracies\n",
    "neighbors = np.arange(1,9)\n",
    "train_accuracy =np.empty(len(neighbors))\n",
    "test_accuracy = np.empty(len(neighbors))"
   ]
  },
  {
   "cell_type": "code",
   "execution_count": 11,
   "id": "accessible-couple",
   "metadata": {
    "execution": {
     "iopub.execute_input": "2021-04-30T15:54:55.479061Z",
     "iopub.status.busy": "2021-04-30T15:54:55.478289Z",
     "iopub.status.idle": "2021-04-30T15:54:55.744985Z",
     "shell.execute_reply": "2021-04-30T15:54:55.744265Z"
    },
    "papermill": {
     "duration": 0.289927,
     "end_time": "2021-04-30T15:54:55.745132",
     "exception": false,
     "start_time": "2021-04-30T15:54:55.455205",
     "status": "completed"
    },
    "tags": []
   },
   "outputs": [],
   "source": [
    "for i,k in enumerate(neighbors):\n",
    "    #Setup a knn classifier with k neighbors\n",
    "    knn = KNeighborsClassifier(n_neighbors=k)\n",
    "    \n",
    "    #Fit the model\n",
    "    knn.fit(X_train, y_train)\n",
    "    \n",
    "    #Compute accuracy on the training set\n",
    "    train_accuracy[i] = knn.score(X_train, y_train)\n",
    "    \n",
    "    #Compute accuracy on the test set\n",
    "    test_accuracy[i] = knn.score(X_test, y_test) "
   ]
  },
  {
   "cell_type": "code",
   "execution_count": 12,
   "id": "promotional-penalty",
   "metadata": {
    "execution": {
     "iopub.execute_input": "2021-04-30T15:54:55.801062Z",
     "iopub.status.busy": "2021-04-30T15:54:55.800421Z",
     "iopub.status.idle": "2021-04-30T15:54:56.022223Z",
     "shell.execute_reply": "2021-04-30T15:54:56.022770Z"
    },
    "papermill": {
     "duration": 0.261528,
     "end_time": "2021-04-30T15:54:56.022948",
     "exception": false,
     "start_time": "2021-04-30T15:54:55.761420",
     "status": "completed"
    },
    "tags": []
   },
   "outputs": [
    {
     "data": {
      "image/png": "[encoded data removed]",
      "text/plain": [
       "<Figure size 432x288 with 1 Axes>"
      ]
     },
     "metadata": {},
     "output_type": "display_data"
    }
   ],
   "source": [
    "#Generating the plot\n",
    "plt.title('K-NN Varying number of neighbors')\n",
    "plt.plot(neighbors, test_accuracy, label='Testing Accuracy')\n",
    "plt.plot(neighbors, train_accuracy, label='Training accuracy')\n",
    "plt.legend()\n",
    "plt.xlabel('Number of neighbors')\n",
    "plt.ylabel('Accuracy')\n",
    "plt.show()"
   ]
  },
  {
   "cell_type": "code",
   "execution_count": 13,
   "id": "hearing-hunger",
   "metadata": {
    "execution": {
     "iopub.execute_input": "2021-04-30T15:54:56.063880Z",
     "iopub.status.busy": "2021-04-30T15:54:56.062971Z",
     "iopub.status.idle": "2021-04-30T15:54:56.067156Z",
     "shell.execute_reply": "2021-04-30T15:54:56.066365Z"
    },
    "papermill": {
     "duration": 0.027249,
     "end_time": "2021-04-30T15:54:56.067318",
     "exception": false,
     "start_time": "2021-04-30T15:54:56.040069",
     "status": "completed"
    },
    "tags": []
   },
   "outputs": [],
   "source": [
    "#Setup a KNN classifier with K neighbors\n",
    "knn = KNeighborsClassifier(n_neighbors=7)"
   ]
  },
  {
   "cell_type": "code",
   "execution_count": 14,
   "id": "structured-boxing",
   "metadata": {
    "execution": {
     "iopub.execute_input": "2021-04-30T15:54:56.109220Z",
     "iopub.status.busy": "2021-04-30T15:54:56.108305Z",
     "iopub.status.idle": "2021-04-30T15:54:56.116484Z",
     "shell.execute_reply": "2021-04-30T15:54:56.117059Z"
    },
    "papermill": {
     "duration": 0.032471,
     "end_time": "2021-04-30T15:54:56.117232",
     "exception": false,
     "start_time": "2021-04-30T15:54:56.084761",
     "status": "completed"
    },
    "tags": []
   },
   "outputs": [
    {
     "data": {
      "text/plain": [
       "KNeighborsClassifier(n_neighbors=7)"
      ]
     },
     "execution_count": 14,
     "metadata": {},
     "output_type": "execute_result"
    }
   ],
   "source": [
    "#Fit the model\n",
    "knn.fit(X_train,y_train)"
   ]
  },
  {
   "cell_type": "code",
   "execution_count": 15,
   "id": "entertaining-mapping",
   "metadata": {
    "execution": {
     "iopub.execute_input": "2021-04-30T15:54:56.158889Z",
     "iopub.status.busy": "2021-04-30T15:54:56.157840Z",
     "iopub.status.idle": "2021-04-30T15:54:56.175832Z",
     "shell.execute_reply": "2021-04-30T15:54:56.176910Z"
    },
    "papermill": {
     "duration": 0.042086,
     "end_time": "2021-04-30T15:54:56.177221",
     "exception": false,
     "start_time": "2021-04-30T15:54:56.135135",
     "status": "completed"
    },
    "tags": []
   },
   "outputs": [
    {
     "data": {
      "text/plain": [
       "0.7305194805194806"
      ]
     },
     "execution_count": 15,
     "metadata": {},
     "output_type": "execute_result"
    }
   ],
   "source": [
    "#Get accuracy\n",
    "knn.score(X_test,y_test)"
   ]
  }
 ],
 "metadata": {
  "kernelspec": {
   "display_name": "Python 3",
   "language": "python",
   "name": "python3"
  },
  "language_info": {
   "codemirror_mode": {
    "name": "ipython",
    "version": 3
   },
   "file_extension": ".py",
   "mimetype": "text/x-python",
   "name": "python",
   "nbconvert_exporter": "python",
   "pygments_lexer": "ipython3",
   "version": "3.7.9"
  },
  "papermill": {
   "default_parameters": {},
   "duration": 10.93526,
   "end_time": "2021-04-30T15:54:56.906731",
   "environment_variables": {},
   "exception": null,
   "input_path": "__notebook__.ipynb",
   "output_path": "__notebook__.ipynb",
   "parameters": {},
   "start_time": "2021-04-30T15:54:45.971471",
   "version": "2.3.2"
  }
 },
 "nbformat": 4,
 "nbformat_minor": 5
}
